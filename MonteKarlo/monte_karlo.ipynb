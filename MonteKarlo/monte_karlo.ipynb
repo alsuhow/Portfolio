import matplotlib.pyplot as plt
import random
def brosok ():
    br1=random.randint(1,6)
    br2=random.randint(1,6)
    if br1==br2:
        res='Win'
    else:
        res='Loos'
    return (res)
def graph():
    r=[]
    stavka=2000
    step=4
    for i in range(1000):
        r=brosok()
        if r=='Win':
            stavka=stavka+4*step
        else:
            stavka=stavka-step
        plt.plot(i,stavka, 
                 marker='.',
                 markersize=2)
        if stavka<=3:
            break
fig=plt.figure()
for g in range(15):
    graph()
plt.show()
